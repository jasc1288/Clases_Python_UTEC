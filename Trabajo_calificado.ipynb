{
  "nbformat": 4,
  "nbformat_minor": 0,
  "metadata": {
    "colab": {
      "provenance": [],
      "authorship_tag": "ABX9TyPD5IC5a1uMVSrnkNzJt+iu",
      "include_colab_link": true
    },
    "kernelspec": {
      "name": "python3",
      "display_name": "Python 3"
    },
    "language_info": {
      "name": "python"
    }
  },
  "cells": [
    {
      "cell_type": "markdown",
      "metadata": {
        "id": "view-in-github",
        "colab_type": "text"
      },
      "source": [
        "<a href=\"https://colab.research.google.com/github/jasc1288/Clases_Python_UTEC/blob/main/Trabajo_calificado.ipynb\" target=\"_parent\"><img src=\"https://colab.research.google.com/assets/colab-badge.svg\" alt=\"Open In Colab\"/></a>"
      ]
    },
    {
      "cell_type": "markdown",
      "source": [
        "## Trabajo Calificado : Jonathan Angel Santivañez"
      ],
      "metadata": {
        "id": "jXv7nLqNqW5o"
      }
    },
    {
      "cell_type": "markdown",
      "source": [
        "Ejercicio 1: Elige tu personaje (Variables y Entrada/Salida)\n",
        "\n",
        "Crea un programa que permita al jugador elegir su personaje entre Mago, Guerrero o Arquero. Según la elección, muestra un mensaje personalizado con las estadísticas iniciales (vida, poder, defensa)."
      ],
      "metadata": {
        "id": "L4GRxsOBqnx1"
      }
    },
    {
      "cell_type": "code",
      "source": [
        "# Mostrar opciones al jugador\n",
        "print(\"¡Bienvenido a Pythonia!\")\n",
        "print(\"Elige tu personaje:\")\n",
        "print(\"1. Mago\")\n",
        "print(\"2. Guerrero\")\n",
        "print(\"3. Arquero\")"
      ],
      "metadata": {
        "colab": {
          "base_uri": "https://localhost:8080/"
        },
        "id": "EPzqlcV-qjjk",
        "outputId": "1b6df3c0-7244-4218-8cf9-4e703ed60c1b"
      },
      "execution_count": null,
      "outputs": [
        {
          "output_type": "stream",
          "name": "stdout",
          "text": [
            "¡Bienvenido a Pythonia!\n",
            "Elige tu personaje:\n",
            "1. Mago\n",
            "2. Guerrero\n",
            "3. Arquero\n"
          ]
        }
      ]
    },
    {
      "cell_type": "code",
      "source": [
        "# Entrada del jugador\n",
        "eleccion = input(\"Ingresa el número de tu personaje (1,2 o 3): \")\n",
        "\n",
        "# Mostrar estadísticas según la elección\n",
        "if eleccion == \"1\":\n",
        "    print(\"\\n¡Has elegido al Mago!\")\n",
        "    print(\"Vida: 70\")\n",
        "    print(\"Poder: 90\")\n",
        "    print(\"Defensa: 40\")\n",
        "elif eleccion == \"2\":\n",
        "    print(\"\\n¡Has elegido al Guerrero!\")\n",
        "    print(\"Vida: 100\")\n",
        "    print(\"Poder: 60\")\n",
        "    print(\"Defensa: 80\")\n",
        "elif eleccion == \"3\":\n",
        "    print(\"\\n¡Has elegido al Arquero!\")\n",
        "    print(\"Vida: 80\")\n",
        "    print(\"Poder: 75\")\n",
        "    print(\"Defensa: 60\")\n",
        "else:\n",
        "    print(\"\\nOpción no válida. solo puedes ingresar 1,2 o 3.\")"
      ],
      "metadata": {
        "colab": {
          "base_uri": "https://localhost:8080/"
        },
        "id": "YReaMAqhqrVG",
        "outputId": "d97b6ba5-3625-4e25-d051-0bf5a2036929"
      },
      "execution_count": null,
      "outputs": [
        {
          "output_type": "stream",
          "name": "stdout",
          "text": [
            "Ingresa el número de tu personaje (1,2 o 3): 1\n",
            "\n",
            "¡Has elegido al Mago!\n",
            "Vida: 70\n",
            "Poder: 90\n",
            "Defensa: 40\n"
          ]
        }
      ]
    },
    {
      "cell_type": "markdown",
      "source": [
        "Ejercicio 2: La prueba del sabio (Condicionales)\n",
        "\n",
        "El sabio te hace una pregunta: si traes menos de 50 monedas de oro, te expulsará; si llevas entre 50 y 100, te permitirá pasar; si llevas más de 100, te dará una poción. Crea el programa que lea las monedas y muestre el resultado."
      ],
      "metadata": {
        "id": "hUp6qubvuSb0"
      }
    },
    {
      "cell_type": "code",
      "source": [
        "# Mostrar introducción\n",
        "print(\"El Sabio te observa detenidamente...\")\n",
        "print(\"Te pregunta cuántas monedas de oro traes contigo.\")\n",
        "\n",
        "# Entrada del usuario\n",
        "monedas = int(input(\"Ingresa la cantidad de monedas de oro: \"))\n",
        "\n",
        "# Evaluar la cantidad de monedas con condicionales\n",
        "if monedas < 50:\n",
        "    print(\"\\nEl sabio se enoja... \")\n",
        "    print(\"«¡No tienes lo suficiente! ¡Fuera de aquí!»\")\n",
        "elif 50 <= monedas <= 100:\n",
        "    print(\"\\nEl sabio te acepta\")\n",
        "    print(\"«Puedes pasar, viajero.»\")\n",
        "elif monedas > 100:\n",
        "    print(\"\\nEl sabio sonríe y saca una botella brillante.\")\n",
        "    print(\"«Impresionante. Aquí tienes una poción mágica como recompensa.»\")"
      ],
      "metadata": {
        "colab": {
          "base_uri": "https://localhost:8080/"
        },
        "id": "xhwVkVrdtGuO",
        "outputId": "be651a0d-d575-44cb-fbc1-d7bdd58360f2"
      },
      "execution_count": null,
      "outputs": [
        {
          "output_type": "stream",
          "name": "stdout",
          "text": [
            "El Sabio te observa detenidamente...\n",
            "Te pregunta cuántas monedas de oro traes contigo.\n",
            "Ingresa la cantidad de monedas de oro: 50\n",
            "\n",
            "El sabio te acepta\n",
            "«Puedes pasar, viajero.»\n"
          ]
        }
      ]
    },
    {
      "cell_type": "markdown",
      "source": [
        "Ejercicio 3: El puente infinito (Bucles While)\n",
        "\n",
        "Diseña un programa que simule el cruce de un puente que cambia su estructura aleatoriamente. El jugador debe adivinar si el siguiente paso será seguro ('s') o peligroso ('p'). El juego termina si el jugador elige 'salir' o si falla 3 veces."
      ],
      "metadata": {
        "id": "FUKLfzzCueaV"
      }
    },
    {
      "cell_type": "code",
      "source": [
        "import random\n",
        "\n",
        "print(\"🌉 Estás por cruzar el Puente Infinito.\")\n",
        "print(\"En cada paso, debes adivinar si es seguro ('s') o peligroso ('p').\")\n",
        "print(\"Si fallas 3 veces... ¡caerás!\")\n",
        "print(\"Escribe 'salir' para abandonar la aventura.\\n\")\n",
        "\n",
        "# Variables iniciales\n",
        "fallos = 0  # Contador de fallos\n",
        "paso_actual = 1\n",
        "\n",
        "while fallos < 3:\n",
        "    # Generar aleatoriamente el estado del siguiente paso\n",
        "    paso_real = random.choice(['s', 'p'])\n",
        "\n",
        "    # Entrada del jugador\n",
        "    eleccion = input(f\"Paso {paso_actual} - ¿Seguro ('s') o Peligroso ('p')? \").lower()\n",
        "\n",
        "    # Verificar si el jugador quiere salir\n",
        "    if eleccion == 'salir':\n",
        "        print(\"\\n Has decidido retirarte del puente. ¡Hasta la próxima aventura!\")\n",
        "        break\n",
        "\n",
        "    # Verificar si el jugador adivinó correctamente\n",
        "    if eleccion == paso_real:\n",
        "        print(\" ¡Adivinaste! Sigues avanzando...\\n\")\n",
        "        paso_actual += 1\n",
        "    else:\n",
        "        fallos += 1\n",
        "        print(f\" ¡Fallaste! Número de fallos: {fallos}/3\\n\")\n",
        "\n",
        "# Evaluar si el jugador perdió\n",
        "if fallos == 3:\n",
        "    print(\" Has fallado 3 veces... el puente desaparece bajo tus pies. ¡Perdiste!\")"
      ],
      "metadata": {
        "colab": {
          "base_uri": "https://localhost:8080/"
        },
        "id": "DnSfl_pDukHF",
        "outputId": "51765ce5-66c0-40a4-fafc-ec1302d20ec4"
      },
      "execution_count": null,
      "outputs": [
        {
          "output_type": "stream",
          "name": "stdout",
          "text": [
            "🌉 Estás por cruzar el Puente Infinito.\n",
            "En cada paso, debes adivinar si es seguro ('s') o peligroso ('p').\n",
            "Si fallas 3 veces... ¡caerás!\n",
            "Escribe 'salir' para abandonar la aventura.\n",
            "\n",
            "Paso 1 - ¿Seguro ('s') o Peligroso ('p')? s\n",
            " ¡Adivinaste! Sigues avanzando...\n",
            "\n",
            "Paso 2 - ¿Seguro ('s') o Peligroso ('p')? s\n",
            " ¡Adivinaste! Sigues avanzando...\n",
            "\n",
            "Paso 3 - ¿Seguro ('s') o Peligroso ('p')? s\n",
            " ¡Fallaste! Número de fallos: 1/3\n",
            "\n",
            "Paso 3 - ¿Seguro ('s') o Peligroso ('p')? s\n",
            " ¡Fallaste! Número de fallos: 2/3\n",
            "\n",
            "Paso 3 - ¿Seguro ('s') o Peligroso ('p')? salir\n",
            "\n",
            " Has decidido retirarte del puente. ¡Hasta la próxima aventura!\n"
          ]
        }
      ]
    },
    {
      "cell_type": "markdown",
      "source": [
        "Ejercicio 4: El laberinto secreto (Bucle For y Range)\n",
        "\n",
        "Crea un programa que muestre una cuenta regresiva desde 10 hasta 1 al estilo nivel de escape del laberinto. Cada número debe ir acompañado de un mensaje tipo \"Quedan X segundos para escapar\"."
      ],
      "metadata": {
        "id": "WvWiVELgvnay"
      }
    },
    {
      "cell_type": "code",
      "source": [
        "print(\"Estás atrapado en el Laberinto Secreto...\")\n",
        "print(\"¡Corre! La salida se cerrará pronto...\\n\")\n",
        "\n",
        "# Cuenta regresiva del 10 al 1\n",
        "for segundos in range(10, 0, -1):\n",
        "    print(f\"Quedan {segundos} segundos para escapar.\")\n",
        "\n",
        "print(\"\\n ¡Has logrado escapar justo a tiempo!\")"
      ],
      "metadata": {
        "colab": {
          "base_uri": "https://localhost:8080/"
        },
        "id": "Yp3qP-_1vwCW",
        "outputId": "eac5666c-d4d4-49c5-b6a8-ac738429e83d"
      },
      "execution_count": null,
      "outputs": [
        {
          "output_type": "stream",
          "name": "stdout",
          "text": [
            "Estás atrapado en el Laberinto Secreto...\n",
            "¡Corre! La salida se cerrará pronto...\n",
            "\n",
            "Quedan 10 segundos para escapar.\n",
            "Quedan 9 segundos para escapar.\n",
            "Quedan 8 segundos para escapar.\n",
            "Quedan 7 segundos para escapar.\n",
            "Quedan 6 segundos para escapar.\n",
            "Quedan 5 segundos para escapar.\n",
            "Quedan 4 segundos para escapar.\n",
            "Quedan 3 segundos para escapar.\n",
            "Quedan 2 segundos para escapar.\n",
            "Quedan 1 segundos para escapar.\n",
            "\n",
            " ¡Has logrado escapar justo a tiempo!\n"
          ]
        }
      ]
    },
    {
      "cell_type": "markdown",
      "source": [
        "Ejercicio 5: Cofres encantados (Break y Continue)\n",
        "\n",
        "Simula 10 cofres cerrados, pero uno de ellos es una trampa explosiva (elige aleatoriamente una posición). El jugador abre cofres uno por uno:"
      ],
      "metadata": {
        "id": "OwC6AqzswYQm"
      }
    },
    {
      "cell_type": "code",
      "source": [
        "print(\"Has encontrado una sala con 10 cofres cerrados.\")\n",
        "print(\"Pero cuidado... uno de ellos es una trampa explosiva\")\n",
        "\n",
        "# Elegimos al azar la posición del cofre trampa\n",
        "trampa = random.randint(1, 10)\n",
        "\n",
        "# Recorremos del cofre 1 al 10\n",
        "for cofre in range(1, 11):\n",
        "    print(f\"\\nAbriendo cofre {cofre}...\")\n",
        "\n",
        "    # Si el cofre es el trampa: ¡Boom! Fin del juego\n",
        "    if cofre == trampa:\n",
        "        print(\"¡Era una trampa! El cofre explotó. Fin de la aventura.\")\n",
        "        break\n",
        "\n",
        "    # Si no, continuar abriendo los siguientes cofres\n",
        "    print(\"El cofre estaba vacío... sigues con vida.\")\n",
        "    continue\n",
        "\n",
        "# Solo si sobrevivió a todos los cofres\n",
        "if cofre != trampa:\n",
        "    print(\"\\n¡Abriste todos los cofres sin caer en la trampa! Eres un maestro del azar.\")"
      ],
      "metadata": {
        "colab": {
          "base_uri": "https://localhost:8080/"
        },
        "id": "kwlK3nA7wnjx",
        "outputId": "5281a0c2-d80f-46a9-b815-7d9844b2dded"
      },
      "execution_count": null,
      "outputs": [
        {
          "output_type": "stream",
          "name": "stdout",
          "text": [
            "Has encontrado una sala con 10 cofres cerrados.\n",
            "Pero cuidado... uno de ellos es una trampa explosiva\n",
            "\n",
            "Abriendo cofre 1...\n",
            "El cofre estaba vacío... sigues con vida.\n",
            "\n",
            "Abriendo cofre 2...\n",
            "El cofre estaba vacío... sigues con vida.\n",
            "\n",
            "Abriendo cofre 3...\n",
            "El cofre estaba vacío... sigues con vida.\n",
            "\n",
            "Abriendo cofre 4...\n",
            "El cofre estaba vacío... sigues con vida.\n",
            "\n",
            "Abriendo cofre 5...\n",
            "El cofre estaba vacío... sigues con vida.\n",
            "\n",
            "Abriendo cofre 6...\n",
            "El cofre estaba vacío... sigues con vida.\n",
            "\n",
            "Abriendo cofre 7...\n",
            "El cofre estaba vacío... sigues con vida.\n",
            "\n",
            "Abriendo cofre 8...\n",
            "El cofre estaba vacío... sigues con vida.\n",
            "\n",
            "Abriendo cofre 9...\n",
            "El cofre estaba vacío... sigues con vida.\n",
            "\n",
            "Abriendo cofre 10...\n",
            "¡Era una trampa! El cofre explotó. Fin de la aventura.\n"
          ]
        }
      ]
    },
    {
      "cell_type": "markdown",
      "source": [
        "Ejercicio 6: Pociones mágicas (Funciones básicas)\n",
        "\n",
        "Crea una función usar_pocion(tipo) que permita al jugador elegir entre 'vida', 'fuerza' o 'velocidad', y retorne el efecto de la poción. Luego, pide al usuario que elija una poción y muestra el resultado llamando a la función."
      ],
      "metadata": {
        "id": "jvI1mgIMxVHA"
      }
    },
    {
      "cell_type": "code",
      "source": [
        "# Definimos la función que aplica el efecto de la poción\n",
        "def pocion(tipo):\n",
        "    if tipo == \"vida\":\n",
        "        return \"Has recuperado 50 puntos de vida.\"\n",
        "    elif tipo == \"fuerza\":\n",
        "        return \"Tu fuerza ha aumentado durante 3 turnos.\"\n",
        "    elif tipo == \"velocidad\":\n",
        "        return \"Tu velocidad se duplicó por 1 minuto.\"\n",
        "    else:\n",
        "        return \"Esa poción no existe.\"\n",
        "\n",
        "# Mostrar las opciones al jugador\n",
        "print(\"Tienes tres pociones mágicas: vida, fuerza o velocidad.\")\n",
        "eleccion = input(\"¿Qué poción deseas usar? \").lower()\n",
        "\n",
        "# Llamar a la función y mostrar el efecto\n",
        "resultado =pocion(eleccion)\n",
        "print(\"\\n\" + resultado)"
      ],
      "metadata": {
        "colab": {
          "base_uri": "https://localhost:8080/"
        },
        "id": "TZcQQsBqxaU5",
        "outputId": "59e6833f-09eb-4fb0-b280-2246e0291be5"
      },
      "execution_count": null,
      "outputs": [
        {
          "output_type": "stream",
          "name": "stdout",
          "text": [
            "Tienes tres pociones mágicas: vida, fuerza o velocidad.\n",
            "¿Qué poción deseas usar? vida\n",
            "\n",
            "Has recuperado 50 puntos de vida.\n"
          ]
        }
      ]
    },
    {
      "cell_type": "markdown",
      "source": [
        "Ejercicio 7: Calculadora de daño crítico (Funciones con parámetros)\n",
        "\n",
        "Crea una función calcular_danio(base, critico) que reciba el daño base y un porcentaje de crítico, devolviendo el daño total. El usuario ingresará el daño base y el porcentaje crítico."
      ],
      "metadata": {
        "id": "UmqXBx9PyJHb"
      }
    },
    {
      "cell_type": "code",
      "source": [
        "# Definimos la función que calcula el daño con crítico\n",
        "def calcular_danio(base, critico):\n",
        "    danio_total = base + (base * critico / 100)\n",
        "    return danio_total\n",
        "\n",
        "# Entrada del usuario\n",
        "print(\"Calculadora de daño crítico\")\n",
        "base = float(input(\"Ingresa el daño base: \"))\n",
        "critico = float(input(\"Ingresa el porcentaje de crítico (%): \"))\n",
        "\n",
        "# Calcular y mostrar el daño total\n",
        "danio = calcular_danio(base, critico)\n",
        "print(f\"\\nDaño total infligido: {danio:.2f} puntos\")"
      ],
      "metadata": {
        "colab": {
          "base_uri": "https://localhost:8080/"
        },
        "id": "t_w9jXglySLI",
        "outputId": "27f5db82-d190-4cd0-cbf8-504ed7671333"
      },
      "execution_count": null,
      "outputs": [
        {
          "output_type": "stream",
          "name": "stdout",
          "text": [
            "Calculadora de daño crítico\n",
            "Ingresa el daño base: 200\n",
            "Ingresa el porcentaje de crítico (%): 50\n",
            "\n",
            "Daño total infligido: 300.00 puntos\n"
          ]
        }
      ]
    },
    {
      "cell_type": "markdown",
      "source": [
        "Ejercicio 8: El desafío del dragón (Condicionales + funciones + bucles)\n",
        "\n",
        "Diseña una función enfrentar_dragon(vida, fuerza) que simule el combate:\n",
        "\n",
        "El jugador ataca al dragón y el dragón contraataca restando vida.\n",
        "\n",
        "Si la vida llega a 0, el jugador pierde.\n",
        "\n",
        "Si el jugador realiza 3 ataques consecutivos sin morir, gana. Usa un bucle while interno para el combate."
      ],
      "metadata": {
        "id": "gTEaObMUy_0B"
      }
    },
    {
      "cell_type": "code",
      "source": [
        "def enfrentar_dragon(vida, fuerza):\n",
        "    print(\"¡Te enfrentas al dragón legendario!\")\n",
        "    ataques_realizados = 0  # Contador de turnos sobrevividos\n",
        "\n",
        "    while vida > 0 and ataques_realizados < 3:\n",
        "        input(\"\\nPresiona ENTER para atacar...\")\n",
        "\n",
        "        # Turno del jugador\n",
        "        print(f\"Atacas al dragón con {fuerza} puntos de daño.\")\n",
        "\n",
        "        # Turno del dragón\n",
        "        danio_recibido = random.randint(10, 30)\n",
        "        vida -= danio_recibido\n",
        "        print(f\"El dragón contraataca y te hace {danio_recibido} de daño. Vida restante: {vida}\")\n",
        "\n",
        "        # Verificar si el jugador sigue con vida\n",
        "        if vida > 0:\n",
        "            ataques_realizados += 1\n",
        "            print(f\"Has sobrevivido {ataques_realizados} ataque(s).\")\n",
        "        else:\n",
        "            print(\"Has caído en combate... El dragón ha ganado.\")\n",
        "            return\n",
        "\n",
        "    # Fuera del bucle: victoria o derrota\n",
        "    if ataques_realizados == 3:\n",
        "        print(\"\\n¡Has vencido al dragón con tu valentía y fuerza!\")\n",
        "    else:\n",
        "        print(\"\\nHas sido derrotado... El dragón sigue custodiando su tesoro.\")\n",
        "\n",
        "# Programa principal\n",
        "print(\"Bienvenido al desafío final\")\n",
        "vida_jugador = int(input(\"Ingresa tu vida inicial: \"))\n",
        "fuerza_jugador = int(input(\"Ingresa tu fuerza de ataque: \"))\n",
        "\n",
        "# Llamar a la función\n",
        "enfrentar_dragon(vida_jugador, fuerza_jugador)"
      ],
      "metadata": {
        "colab": {
          "base_uri": "https://localhost:8080/"
        },
        "id": "Cxmvl7tcy4Ph",
        "outputId": "9f7e72bd-3a92-4311-9730-18c137ebd6f1"
      },
      "execution_count": null,
      "outputs": [
        {
          "output_type": "stream",
          "name": "stdout",
          "text": [
            "Bienvenido al desafío final\n",
            "Ingresa tu vida inicial: 100\n",
            "Ingresa tu fuerza de ataque: 100\n",
            "¡Te enfrentas al dragón legendario!\n",
            "\n",
            "Presiona ENTER para atacar...\n",
            "Atacas al dragón con 100 puntos de daño.\n",
            "El dragón contraataca y te hace 16 de daño. Vida restante: 84\n",
            "Has sobrevivido 1 ataque(s).\n",
            "\n",
            "Presiona ENTER para atacar...\n",
            "Atacas al dragón con 100 puntos de daño.\n",
            "El dragón contraataca y te hace 12 de daño. Vida restante: 72\n",
            "Has sobrevivido 2 ataque(s).\n",
            "\n",
            "Presiona ENTER para atacar...\n",
            "Atacas al dragón con 100 puntos de daño.\n",
            "El dragón contraataca y te hace 19 de daño. Vida restante: 53\n",
            "Has sobrevivido 3 ataque(s).\n",
            "\n",
            "¡Has vencido al dragón con tu valentía y fuerza!\n"
          ]
        }
      ]
    },
    {
      "cell_type": "markdown",
      "source": [
        "Ejercicio 9: El camino del héroe (Recursividad sencilla)\n",
        "\n",
        "Crea una función recursiva que simule el camino de un héroe cruzando N obstáculos, mostrando mensajes como:\n",
        "\n",
        "\"Obstáculo 3: saltando...\"\n",
        "\n",
        "Termina cuando N llegue a 0."
      ],
      "metadata": {
        "id": "IM3z3liEz5DL"
      }
    },
    {
      "cell_type": "code",
      "source": [
        "def cruzar_obstaculos(n):\n",
        "    if n == 0:\n",
        "        print(\"¡Has cruzado todos los obstáculos! El camino está despejado.\")\n",
        "    else:\n",
        "        print(f\"Obstáculo {n}: saltando...\")\n",
        "        cruzar_obstaculos(n - 1)\n",
        "\n",
        "# Programa principal\n",
        "print(\"Comienza tu travesía por el camino del héroe.\")\n",
        "\n",
        "numero_obstaculos = int(input(\"¿Cuántos obstáculos deseas cruzar? \"))\n",
        "cruzar_obstaculos(numero_obstaculos)"
      ],
      "metadata": {
        "colab": {
          "base_uri": "https://localhost:8080/"
        },
        "id": "GQHdorp70QkD",
        "outputId": "19367205-3882-4aed-e9ca-e1f5bb6bcd06"
      },
      "execution_count": null,
      "outputs": [
        {
          "output_type": "stream",
          "name": "stdout",
          "text": [
            "Comienza tu travesía por el camino del héroe.\n",
            "¿Cuántos obstáculos deseas cruzar? 9\n",
            "Obstáculo 9: saltando...\n",
            "Obstáculo 8: saltando...\n",
            "Obstáculo 7: saltando...\n",
            "Obstáculo 6: saltando...\n",
            "Obstáculo 5: saltando...\n",
            "Obstáculo 4: saltando...\n",
            "Obstáculo 3: saltando...\n",
            "Obstáculo 2: saltando...\n",
            "Obstáculo 1: saltando...\n",
            "¡Has cruzado todos los obstáculos! El camino está despejado.\n"
          ]
        }
      ]
    },
    {
      "cell_type": "markdown",
      "source": [
        "Ejercicio 10: Torre de los hechizos (Reto Integrador Final)\n",
        "\n",
        "Crea un programa completo que combine:\n",
        "\n",
        "Elección de personaje.\n",
        "\n",
        "Simulación de un combate contra un enemigo con vida y defensa.\n",
        "\n",
        "Uso de funciones para calcular el daño.\n",
        "\n",
        "Bucles para turnos de combate.\n",
        "\n",
        "Uso de una función recursiva que simule las rondas como niveles (nivel 1, 2, 3 hasta ganar).\n",
        "\n"
      ],
      "metadata": {
        "id": "k32pWRZg0r1V"
      }
    },
    {
      "cell_type": "code",
      "source": [
        "import random\n",
        "\n",
        "# 1. Elegir personaje\n",
        "def elegir_personaje():\n",
        "    print(\"Bienvenido a la Torre de los Hechizos\")\n",
        "    print(\"Elige tu personaje:\")\n",
        "    print(\"1. Mago (vida=70, fuerza=90, defensa=40)\")\n",
        "    print(\"2. Guerrero (vida=100, fuerza=60, defensa=80)\")\n",
        "    print(\"3. Arquero (vida=80, fuerza=75, defensa=60)\")\n",
        "\n",
        "    opcion = input(\"Ingresa 1, 2 o 3: \")\n",
        "\n",
        "    if opcion == \"1\":\n",
        "        return {\"nombre\": \"Mago\", \"vida\": 70, \"fuerza\": 90, \"defensa\": 40}\n",
        "    elif opcion == \"2\":\n",
        "        return {\"nombre\": \"Guerrero\", \"vida\": 100, \"fuerza\": 60, \"defensa\": 80}\n",
        "    elif opcion == \"3\":\n",
        "        return {\"nombre\": \"Arquero\", \"vida\": 80, \"fuerza\": 75, \"defensa\": 60}\n",
        "    else:\n",
        "        print(\" Opción inválida, elige nuevamente.\")\n",
        "        return elegir_personaje()\n",
        "\n",
        "# 2. Calcular daño\n",
        "def calcular_danio(fuerza, defensa_enemiga):\n",
        "    danio = fuerza - (defensa_enemiga * 0.3)\n",
        "    return max(0, round(danio))  # el daño nunca será negativo\n",
        "\n",
        "# 3. Combate por turno\n",
        "def combatir(jugador, enemigo):\n",
        "    print(f\"\\n¡Combate contra {enemigo['nombre']}!\")\n",
        "    turno = 1\n",
        "\n",
        "    while jugador[\"vida\"] > 0 and enemigo[\"vida\"] > 0:\n",
        "        print(f\"\\n--- Turno {turno} ---\")\n",
        "        input(\"Presiona ENTER para atacar...\")\n",
        "\n",
        "        # Jugador ataca\n",
        "        danio_jugador = calcular_danio(jugador[\"fuerza\"], enemigo[\"defensa\"])\n",
        "        enemigo[\"vida\"] -= danio_jugador\n",
        "        print(f\"{jugador['nombre']} inflige {danio_jugador} de daño. Vida del enemigo: {max(0, enemigo['vida'])}\")\n",
        "\n",
        "        # Verificar si el enemigo fue vencido\n",
        "        if enemigo[\"vida\"] <= 0:\n",
        "            print(f\"¡Has vencido a {enemigo['nombre']}!\")\n",
        "            return True\n",
        "\n",
        "        # Enemigo contraataca\n",
        "        danio_enemigo = calcular_danio(enemigo[\"fuerza\"], jugador[\"defensa\"])\n",
        "        jugador[\"vida\"] -= danio_enemigo\n",
        "        print(f\"{enemigo['nombre']} contraataca con {danio_enemigo}. Tu vida: {max(0, jugador['vida'])}\")\n",
        "\n",
        "        turno += 1\n",
        "\n",
        "    print(\"¡Has caído en combate!\")\n",
        "    return False\n",
        "\n",
        "# 4. Función recursiva para avanzar niveles\n",
        "def torre_hechizos(nivel, jugador):\n",
        "    if nivel > 3:\n",
        "        print(\"\\n¡Has conquistado la Torre de los Hechizos!\")\n",
        "        return\n",
        "\n",
        "    print(f\"\\n Nivel {nivel} de la torre...\")\n",
        "\n",
        "    # Crear enemigo aleatorio\n",
        "    enemigo = {\n",
        "        \"nombre\": f\"Hechicero Nivel {nivel}\",\n",
        "        \"vida\": 40 + nivel * 20,\n",
        "        \"fuerza\": 20 + nivel * 10,\n",
        "        \"defensa\": 20 + nivel * 5\n",
        "    }\n",
        "\n",
        "    victoria = combatir(jugador, enemigo)\n",
        "\n",
        "    if victoria:\n",
        "        # Ronda superada, pasar al siguiente nivel\n",
        "        torre_hechizos(nivel + 1, jugador)\n",
        "    else:\n",
        "        print(\" El héroe fue derrotado... Intenta nuevamente otro día.\")\n",
        "\n",
        "# 5. Ejecutar juego\n",
        "personaje = elegir_personaje()\n",
        "torre_hechizos(1, personaje)"
      ],
      "metadata": {
        "colab": {
          "base_uri": "https://localhost:8080/"
        },
        "id": "9klIjJyG05yc",
        "outputId": "4c0ed731-cc8c-4fcc-ab35-83b0decad48a"
      },
      "execution_count": null,
      "outputs": [
        {
          "output_type": "stream",
          "name": "stdout",
          "text": [
            "Bienvenido a la Torre de los Hechizos\n",
            "Elige tu personaje:\n",
            "1. Mago (vida=70, fuerza=90, defensa=40)\n",
            "2. Guerrero (vida=100, fuerza=60, defensa=80)\n",
            "3. Arquero (vida=80, fuerza=75, defensa=60)\n",
            "Ingresa 1, 2 o 3: 3\n",
            "\n",
            " Nivel 1 de la torre...\n",
            "\n",
            "¡Combate contra Hechicero Nivel 1!\n",
            "\n",
            "--- Turno 1 ---\n",
            "Presiona ENTER para atacar...\n",
            "Arquero inflige 68 de daño. Vida del enemigo: 0\n",
            "¡Has vencido a Hechicero Nivel 1!\n",
            "\n",
            " Nivel 2 de la torre...\n",
            "\n",
            "¡Combate contra Hechicero Nivel 2!\n",
            "\n",
            "--- Turno 1 ---\n",
            "Presiona ENTER para atacar...\n",
            "Arquero inflige 66 de daño. Vida del enemigo: 14\n",
            "Hechicero Nivel 2 contraataca con 22. Tu vida: 58\n",
            "\n",
            "--- Turno 2 ---\n",
            "Presiona ENTER para atacar...\n",
            "Arquero inflige 66 de daño. Vida del enemigo: 0\n",
            "¡Has vencido a Hechicero Nivel 2!\n",
            "\n",
            " Nivel 3 de la torre...\n",
            "\n",
            "¡Combate contra Hechicero Nivel 3!\n",
            "\n",
            "--- Turno 1 ---\n",
            "Presiona ENTER para atacar...\n",
            "Arquero inflige 64 de daño. Vida del enemigo: 36\n",
            "Hechicero Nivel 3 contraataca con 32. Tu vida: 26\n",
            "\n",
            "--- Turno 2 ---\n",
            "Presiona ENTER para atacar...\n",
            "Arquero inflige 64 de daño. Vida del enemigo: 0\n",
            "¡Has vencido a Hechicero Nivel 3!\n",
            "\n",
            "¡Has conquistado la Torre de los Hechizos!\n"
          ]
        }
      ]
    }
  ]
}